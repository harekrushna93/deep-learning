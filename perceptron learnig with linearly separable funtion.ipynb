{
 "cells": [
  {
   "cell_type": "code",
   "execution_count": 120,
   "id": "7f02c9c6",
   "metadata": {},
   "outputs": [],
   "source": [
    "import numpy as np"
   ]
  },
  {
   "cell_type": "code",
   "execution_count": 121,
   "id": "618eadce",
   "metadata": {},
   "outputs": [
    {
     "data": {
      "text/plain": [
       "8"
      ]
     },
     "execution_count": 121,
     "metadata": {},
     "output_type": "execute_result"
    }
   ],
   "source": [
    "X = np.array([[0,0],[0,1],[1,0],[1,1]])\n",
    "x = np.array([[1,0,0,0],\n",
    "              [1,0,0,1],\n",
    "              [1,0,1,0],\n",
    "              [1,0,1,1],\n",
    "              [1,1,0,0],\n",
    "              [1,1,0,1],\n",
    "              [1,1,1,0],\n",
    "              [1,1,1,1]])\n",
    "y = np.array([0,1,1,1,1,1,1,1])\n",
    "w = np.ones(len(x[0]))\n",
    "l = 0.01\n",
    "itr = 1000\n",
    "len(x)"
   ]
  },
  {
   "cell_type": "code",
   "execution_count": 122,
   "id": "9c8e46ec",
   "metadata": {},
   "outputs": [],
   "source": [
    "def step(x):\n",
    "    if x>=0:\n",
    "        v = 1\n",
    "    else:\n",
    "        v = 0\n",
    "    return v\n"
   ]
  },
  {
   "cell_type": "code",
   "execution_count": 123,
   "id": "d6bf44fd",
   "metadata": {},
   "outputs": [
    {
     "name": "stdout",
     "output_type": "stream",
     "text": [
      "intial w= [1. 1. 1. 1.]\n",
      "converge in itaration no 100\n",
      "final w= [-7.52869989e-16  1.00000000e+00  1.00000000e+00  1.00000000e+00]\n"
     ]
    }
   ],
   "source": [
    "e = np.zeros(len(x))\n",
    "print('intial w=',w)\n",
    "for i in range(itr):\n",
    "    for j in range(len(x)):\n",
    "        ysum = np.dot(x[j],w)\n",
    "        error = y[j] - step(ysum)\n",
    "        #print('error',error)\n",
    "        e[j] = error\n",
    "        w = w + l*error*x[j]\n",
    "    #print('w=',w)\n",
    "    if all(e == 0):\n",
    "        print('converge in itaration no',i)\n",
    "        break\n",
    "print('final w=',w)"
   ]
  },
  {
   "cell_type": "code",
   "execution_count": 124,
   "id": "b9915875",
   "metadata": {},
   "outputs": [],
   "source": [
    "def orfunction(x1,x2,x3):\n",
    "    y = w[0] + w[1]*x1 + w[2]*x2 + w[3]*x3\n",
    "    v = step(y)\n",
    "    return v"
   ]
  },
  {
   "cell_type": "code",
   "execution_count": 131,
   "id": "bd28e695",
   "metadata": {},
   "outputs": [
    {
     "data": {
      "text/plain": [
       "1"
      ]
     },
     "execution_count": 131,
     "metadata": {},
     "output_type": "execute_result"
    }
   ],
   "source": [
    "orfunction(1,0,0)"
   ]
  },
  {
   "cell_type": "code",
   "execution_count": null,
   "id": "c4e90d9e",
   "metadata": {},
   "outputs": [],
   "source": []
  }
 ],
 "metadata": {
  "kernelspec": {
   "display_name": "Python 3",
   "language": "python",
   "name": "python3"
  },
  "language_info": {
   "codemirror_mode": {
    "name": "ipython",
    "version": 3
   },
   "file_extension": ".py",
   "mimetype": "text/x-python",
   "name": "python",
   "nbconvert_exporter": "python",
   "pygments_lexer": "ipython3",
   "version": "3.8.8"
  }
 },
 "nbformat": 4,
 "nbformat_minor": 5
}
